{
 "cells": [
  {
   "cell_type": "markdown",
   "metadata": {},
   "source": [
    "## Assignment 2"
   ]
  },
  {
   "cell_type": "code",
   "execution_count": null,
   "metadata": {
    "collapsed": true
   },
   "outputs": [],
   "source": [
    "import os\n",
    "\n",
    "def load_data(train_dir):\n",
    "    \"keep path of files of training data\"\n",
    "    emails_path = [os.path.join(train_dir+ str(i),f) for i in range(1,10) for f in os.listdir(train_dir + str(i))] \n",
    "    emails = []\n",
    "    targets = []\n",
    "    i=0\n",
    "    for email_path in emails_path:\n",
    "        with open(email_path) as f:\n",
    "            emails.append(f.readlines()[1:][1]) # we do not take the first line of each emails which is the subject\n",
    "            file_name = emails_path[i].split(\"\\\\\")[3]\n",
    "            if(file_name[0:5]==\"spmsg\"):\n",
    "                targets.append('spam')\n",
    "            else:\n",
    "                targets.append('ham')    \n",
    "        i+=1\n",
    "    return emails,targets"
   ]
  },
  {
   "cell_type": "code",
   "execution_count": null,
   "metadata": {
    "collapsed": true
   },
   "outputs": [],
   "source": [
    "train_dir =\".\\\\bare\\\\part\"\n",
    "emails,targets = load_data(train_dir)"
   ]
  },
  {
   "cell_type": "code",
   "execution_count": null,
   "metadata": {
    "collapsed": true
   },
   "outputs": [],
   "source": [
    "emails[0]"
   ]
  },
  {
   "cell_type": "code",
   "execution_count": null,
   "metadata": {
    "collapsed": true
   },
   "outputs": [],
   "source": [
    "targets[0]"
   ]
  },
  {
   "cell_type": "code",
   "execution_count": null,
   "metadata": {
    "collapsed": true
   },
   "outputs": [],
   "source": [
    "len(emails)"
   ]
  }
 ],
 "metadata": {
  "anaconda-cloud": {},
  "kernelspec": {
   "display_name": "Python [conda root]",
   "language": "python",
   "name": "conda-root-py"
  },
  "language_info": {
   "codemirror_mode": {
    "name": "ipython",
    "version": 3
   },
   "file_extension": ".py",
   "mimetype": "text/x-python",
   "name": "python",
   "nbconvert_exporter": "python",
   "pygments_lexer": "ipython3",
   "version": "3.5.2"
  }
 },
 "nbformat": 4,
 "nbformat_minor": 1
}
